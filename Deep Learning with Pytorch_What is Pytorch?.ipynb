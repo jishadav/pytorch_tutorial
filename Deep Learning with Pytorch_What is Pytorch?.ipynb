{
 "cells": [
  {
   "cell_type": "code",
   "execution_count": 1,
   "metadata": {},
   "outputs": [],
   "source": [
    "from __future__ import print_function\n",
    "import torch"
   ]
  },
  {
   "cell_type": "code",
   "execution_count": 2,
   "metadata": {},
   "outputs": [
    {
     "name": "stdout",
     "output_type": "stream",
     "text": [
      "tensor([[0.0000e+00, 0.0000e+00, 3.0922e-29],\n",
      "        [1.5846e+29,        nan, 1.4013e-45],\n",
      "        [6.6824e-07, 1.6782e-07, 5.2893e+22],\n",
      "        [1.6893e-07, 5.2708e-08, 3.2774e-09],\n",
      "        [5.4126e+22, 6.5926e-10, 8.5033e-25]])\n"
     ]
    }
   ],
   "source": [
    "#uninitialised 5x3 matrix\n",
    "x = torch.empty(5, 3)\n",
    "print(x)"
   ]
  },
  {
   "cell_type": "code",
   "execution_count": 4,
   "metadata": {},
   "outputs": [
    {
     "name": "stdout",
     "output_type": "stream",
     "text": [
      "tensor([[0.1346, 0.5887, 0.6450],\n",
      "        [0.6280, 0.6237, 0.6503],\n",
      "        [0.3671, 0.1162, 0.1260],\n",
      "        [0.0933, 0.4614, 0.4183],\n",
      "        [0.3418, 0.4884, 0.9265]])\n"
     ]
    }
   ],
   "source": [
    "#Randomly initialied matrix\n",
    "x = torch.rand(5,3)\n",
    "print(x)"
   ]
  },
  {
   "cell_type": "code",
   "execution_count": 5,
   "metadata": {},
   "outputs": [
    {
     "name": "stdout",
     "output_type": "stream",
     "text": [
      "tensor([[0, 0, 0],\n",
      "        [0, 0, 0],\n",
      "        [0, 0, 0],\n",
      "        [0, 0, 0],\n",
      "        [0, 0, 0]])\n"
     ]
    }
   ],
   "source": [
    "#Matrix of zeros and of type long\n",
    "x = torch.zeros(5,3,dtype=torch.long)\n",
    "print(x)"
   ]
  },
  {
   "cell_type": "code",
   "execution_count": 8,
   "metadata": {},
   "outputs": [
    {
     "name": "stdout",
     "output_type": "stream",
     "text": [
      "tensor([5.0000, 3.3000])\n"
     ]
    },
    {
     "data": {
      "text/plain": [
       "tensor([5.0000, 3.3000])"
      ]
     },
     "execution_count": 8,
     "metadata": {},
     "output_type": "execute_result"
    }
   ],
   "source": [
    "#Tensor directly from data\n",
    "x = torch.tensor([5, 3.3])\n",
    "print(x)"
   ]
  },
  {
   "cell_type": "code",
   "execution_count": 11,
   "metadata": {},
   "outputs": [
    {
     "name": "stdout",
     "output_type": "stream",
     "text": [
      "tensor([[1., 1., 1.],\n",
      "        [1., 1., 1.],\n",
      "        [1., 1., 1.],\n",
      "        [1., 1., 1.],\n",
      "        [1., 1., 1.]], dtype=torch.float64)\n",
      "tensor([[-0.2939,  0.4656, -0.8098],\n",
      "        [-0.2209,  0.8153,  1.5218],\n",
      "        [-0.0003,  0.1084, -1.8232],\n",
      "        [-0.5533,  0.0451,  0.4055],\n",
      "        [ 0.4700,  0.3225,  0.0507]])\n"
     ]
    }
   ],
   "source": [
    "#Tensor from an existing tensor\n",
    "x = x.new_ones(5,3, dtype=torch.double)\n",
    "print(x)\n",
    "x = torch.randn_like(x, dtype=torch.float) #Overrude dtype, but same size\n",
    "print(x)"
   ]
  },
  {
   "cell_type": "code",
   "execution_count": 12,
   "metadata": {},
   "outputs": [
    {
     "name": "stdout",
     "output_type": "stream",
     "text": [
      "torch.Size([5, 3])\n"
     ]
    }
   ],
   "source": [
    "# print size\n",
    "print(x.size())"
   ]
  },
  {
   "cell_type": "code",
   "execution_count": 15,
   "metadata": {},
   "outputs": [
    {
     "name": "stdout",
     "output_type": "stream",
     "text": [
      "tensor([[0.9638, 0.8111, 0.3384],\n",
      "        [0.7651, 0.8582, 0.5496],\n",
      "        [0.8026, 0.3139, 0.3949],\n",
      "        [0.4844, 0.9164, 0.7646],\n",
      "        [0.9233, 0.1122, 0.4591]])\n",
      "tensor([[ 0.6699,  1.2766, -0.4714],\n",
      "        [ 0.5442,  1.6735,  2.0714],\n",
      "        [ 0.8023,  0.4223, -1.4283],\n",
      "        [-0.0689,  0.9616,  1.1701],\n",
      "        [ 1.3933,  0.4348,  0.5098]])\n",
      "tensor([[ 0.6699,  1.2766, -0.4714],\n",
      "        [ 0.5442,  1.6735,  2.0714],\n",
      "        [ 0.8023,  0.4223, -1.4283],\n",
      "        [-0.0689,  0.9616,  1.1701],\n",
      "        [ 1.3933,  0.4348,  0.5098]])\n"
     ]
    }
   ],
   "source": [
    "#addition\n",
    "y = torch.rand(5,3)\n",
    "print(y)\n",
    "print(x + y) #One method\n",
    "print(torch.add(x,y)) #Another method"
   ]
  },
  {
   "cell_type": "code",
   "execution_count": 17,
   "metadata": {},
   "outputs": [
    {
     "name": "stdout",
     "output_type": "stream",
     "text": [
      "tensor([[ 0.6699,  1.2766, -0.4714],\n",
      "        [ 0.5442,  1.6735,  2.0714],\n",
      "        [ 0.8023,  0.4223, -1.4283],\n",
      "        [-0.0689,  0.9616,  1.1701],\n",
      "        [ 1.3933,  0.4348,  0.5098]])\n"
     ]
    }
   ],
   "source": [
    "#Output tensor as argument\n",
    "result = torch.empty(5,3)\n",
    "torch.add(x, y, out=result)\n",
    "print(result)"
   ]
  },
  {
   "cell_type": "code",
   "execution_count": 32,
   "metadata": {},
   "outputs": [
    {
     "data": {
      "text/plain": [
       "tensor([[-0.5059,  3.1389, -3.7106],\n",
       "        [-0.3394,  4.9347,  8.1585],\n",
       "        [ 0.8013,  0.8559, -8.7211],\n",
       "        [-2.2822,  1.1421,  2.7922],\n",
       "        [ 3.2734,  1.7249,  0.7124]])"
      ]
     },
     "execution_count": 32,
     "metadata": {},
     "output_type": "execute_result"
    }
   ],
   "source": [
    "#in place addition\n",
    "y.add_(x)  #any operation with _ prefix mutates the tensor"
   ]
  },
  {
   "cell_type": "code",
   "execution_count": 35,
   "metadata": {},
   "outputs": [
    {
     "name": "stdout",
     "output_type": "stream",
     "text": [
      "tensor([[-0.2939,  0.4656, -0.8098],\n",
      "        [-0.2209,  0.8153,  1.5218],\n",
      "        [-0.0003,  0.1084, -1.8232],\n",
      "        [-0.5533,  0.0451,  0.4055],\n",
      "        [ 0.4700,  0.3225,  0.0507]])\n",
      "tensor([-0.8098,  1.5218, -1.8232,  0.4055,  0.0507])\n"
     ]
    }
   ],
   "source": [
    "#indexing same as numpy\n",
    "print(x)\n",
    "print(x[:,2])"
   ]
  },
  {
   "cell_type": "code",
   "execution_count": 41,
   "metadata": {},
   "outputs": [
    {
     "name": "stdout",
     "output_type": "stream",
     "text": [
      "torch.Size([4, 4]) torch.Size([16]) torch.Size([2, 8])\n"
     ]
    }
   ],
   "source": [
    "#reshape tensor\n",
    "x = torch.randn(4,4)\n",
    "y = x.view(16)\n",
    "z = x.view(-1, 8)\n",
    "print(x.size(), y.size(), z.size())"
   ]
  },
  {
   "cell_type": "code",
   "execution_count": 43,
   "metadata": {},
   "outputs": [
    {
     "name": "stdout",
     "output_type": "stream",
     "text": [
      "tensor([[ 0.4461, -1.0740,  0.9035,  0.3012],\n",
      "        [ 0.2425, -0.9464, -0.5345,  1.9026],\n",
      "        [-0.3748, -1.1119, -0.8004, -0.7511],\n",
      "        [ 1.9160,  1.0785, -0.5934, -0.0134]]) \n",
      " tensor([ 0.4461, -1.0740,  0.9035,  0.3012,  0.2425, -0.9464, -0.5345,  1.9026,\n",
      "        -0.3748, -1.1119, -0.8004, -0.7511,  1.9160,  1.0785, -0.5934, -0.0134]) \n",
      " tensor([[ 0.4461, -1.0740,  0.9035,  0.3012,  0.2425, -0.9464, -0.5345,  1.9026],\n",
      "        [-0.3748, -1.1119, -0.8004, -0.7511,  1.9160,  1.0785, -0.5934, -0.0134]])\n"
     ]
    }
   ],
   "source": [
    "print(x, \"\\n\", y, \"\\n\", z)"
   ]
  },
  {
   "cell_type": "code",
   "execution_count": 46,
   "metadata": {},
   "outputs": [
    {
     "name": "stdout",
     "output_type": "stream",
     "text": [
      "tensor([-0.6241])\n",
      "-0.6241282224655151\n"
     ]
    }
   ],
   "source": [
    "# get value from one element tensor\n",
    "x = torch.randn(1)\n",
    "print(x)\n",
    "print(x.item())"
   ]
  },
  {
   "cell_type": "code",
   "execution_count": 49,
   "metadata": {},
   "outputs": [
    {
     "data": {
      "text/plain": [
       "16"
      ]
     },
     "execution_count": 49,
     "metadata": {},
     "output_type": "execute_result"
    }
   ],
   "source": [
    "#total elements in tensor\n",
    "torch.numel(y)"
   ]
  },
  {
   "cell_type": "code",
   "execution_count": 57,
   "metadata": {},
   "outputs": [
    {
     "name": "stdout",
     "output_type": "stream",
     "text": [
      "tensor([0, 1, 2, 3, 4])\n",
      "tensor([1, 2, 3])\n",
      "tensor([1.0000, 1.5000, 2.0000, 2.5000, 3.0000, 3.5000])\n",
      "tensor([1., 2., 3., 4.])\n"
     ]
    },
    {
     "name": "stderr",
     "output_type": "stream",
     "text": [
      "/Users/jishadav/.virtualenvs/car/lib/python3.6/site-packages/ipykernel_launcher.py:5: UserWarning: torch.range is deprecated in favor of torch.arange and will be removed in 0.5. Note that arange generates values in [start; end), not [start; end].\n",
      "  \"\"\"\n"
     ]
    }
   ],
   "source": [
    "#1 D tensor with interval\n",
    "print(torch.arange(5))\n",
    "print(torch.arange(1,4))\n",
    "print(torch.arange(1,4,0.5))\n",
    "print(torch.range(1,4))  #deprecated"
   ]
  },
  {
   "cell_type": "code",
   "execution_count": 68,
   "metadata": {},
   "outputs": [
    {
     "name": "stdout",
     "output_type": "stream",
     "text": [
      "tensor([[ 0.6682, -0.5404, -0.1478],\n",
      "        [-0.3429, -0.1833,  0.7666]])\n",
      "tensor([[ 0.6682, -0.5404, -0.1478],\n",
      "        [-0.3429, -0.1833,  0.7666],\n",
      "        [ 0.6682, -0.5404, -0.1478],\n",
      "        [-0.3429, -0.1833,  0.7666],\n",
      "        [ 0.6682, -0.5404, -0.1478],\n",
      "        [-0.3429, -0.1833,  0.7666]])\n",
      "tensor([[ 0.6682, -0.5404, -0.1478],\n",
      "        [-0.3429, -0.1833,  0.7666],\n",
      "        [ 0.6682, -0.5404, -0.1478],\n",
      "        [-0.3429, -0.1833,  0.7666],\n",
      "        [ 0.6682, -0.5404, -0.1478],\n",
      "        [-0.3429, -0.1833,  0.7666]])\n",
      "tensor([[ 0.6682, -0.5404, -0.1478,  0.6682, -0.5404, -0.1478,  0.6682, -0.5404,\n",
      "         -0.1478],\n",
      "        [-0.3429, -0.1833,  0.7666, -0.3429, -0.1833,  0.7666, -0.3429, -0.1833,\n",
      "          0.7666]])\n"
     ]
    }
   ],
   "source": [
    "#concatenation\n",
    "x = torch.randn(2,3)\n",
    "print(x)\n",
    "print(torch.cat((x, x, x)))\n",
    "print(torch.cat((x, x, x), 0))\n",
    "print(torch.cat((x, x, x), 1))"
   ]
  },
  {
   "cell_type": "code",
   "execution_count": 80,
   "metadata": {},
   "outputs": [
    {
     "name": "stdout",
     "output_type": "stream",
     "text": [
      "(tensor([[ 0.6682, -0.5404, -0.1478]]), tensor([[-0.3429, -0.1833,  0.7666]]))\n",
      "(tensor([[ 0.6682, -0.5404],\n",
      "        [-0.3429, -0.1833]]), tensor([[-0.1478],\n",
      "        [ 0.7666]]))\n"
     ]
    }
   ],
   "source": [
    "#chunking\n",
    "print(torch.chunk(x, 2, dim=0))\n",
    "print(torch.chunk(x, 2, dim=1))"
   ]
  },
  {
   "cell_type": "code",
   "execution_count": 94,
   "metadata": {},
   "outputs": [
    {
     "name": "stdout",
     "output_type": "stream",
     "text": [
      "tensor([[-0.4280, -1.1769, -1.5593],\n",
      "        [ 1.1285,  0.5774, -0.1115]])\n"
     ]
    },
    {
     "data": {
      "text/plain": [
       "tensor([[-0.4280, -0.4280],\n",
       "        [ 0.5774,  0.5774]])"
      ]
     },
     "execution_count": 94,
     "metadata": {},
     "output_type": "execute_result"
    }
   ],
   "source": [
    "#gathering\n",
    "x = torch.randn(2,3)\n",
    "print(x)\n",
    "torch.gather(x, 1, torch.tensor([[0,0],[1,1]]))"
   ]
  },
  {
   "cell_type": "code",
   "execution_count": 95,
   "metadata": {},
   "outputs": [
    {
     "name": "stdout",
     "output_type": "stream",
     "text": [
      "tensor([[ 0.0841,  1.3465, -1.3907,  1.4734],\n",
      "        [ 0.7182,  1.8542,  0.8492,  0.8741],\n",
      "        [ 0.7794,  1.1642,  1.4259,  1.3501]])\n",
      "tensor([[0, 1, 0, 1],\n",
      "        [1, 1, 1, 1],\n",
      "        [1, 1, 1, 1]], dtype=torch.uint8)\n"
     ]
    },
    {
     "data": {
      "text/plain": [
       "tensor([1.3465, 1.4734, 0.7182, 1.8542, 0.8492, 0.8741, 0.7794, 1.1642, 1.4259,\n",
       "        1.3501])"
      ]
     },
     "execution_count": 95,
     "metadata": {},
     "output_type": "execute_result"
    }
   ],
   "source": [
    "# masked_select\n",
    "x = torch.randn(3,4)\n",
    "print(x)\n",
    "mask = x.ge(0.5)\n",
    "print(mask)\n",
    "torch.masked_select(x, mask)"
   ]
  },
  {
   "cell_type": "code",
   "execution_count": 98,
   "metadata": {},
   "outputs": [
    {
     "name": "stdout",
     "output_type": "stream",
     "text": [
      "tensor([[0],\n",
      "        [1],\n",
      "        [2],\n",
      "        [4]])\n",
      "tensor([[0, 0],\n",
      "        [0, 2],\n",
      "        [1, 1],\n",
      "        [2, 0],\n",
      "        [2, 2],\n",
      "        [3, 1],\n",
      "        [3, 3]])\n"
     ]
    }
   ],
   "source": [
    "#return indices of all nonzero elements\n",
    "print(torch.nonzero(torch.tensor([1, 1, 1, 0, 1])))\n",
    "print(torch.nonzero(torch.tensor([[1.6, 0.0, 1.0, 0.0],\n",
    "                                [0.0, 0.4, 0.0, 0.0],\n",
    "                                [1.0, 0.0, 1.2, 0.0],\n",
    "                                [0.0, 2, 0.0,-0.4]])))"
   ]
  },
  {
   "cell_type": "code",
   "execution_count": 99,
   "metadata": {},
   "outputs": [
    {
     "data": {
      "text/plain": [
       "tensor([[0, 1],\n",
       "        [2, 3]])"
      ]
     },
     "execution_count": 99,
     "metadata": {},
     "output_type": "execute_result"
    }
   ],
   "source": [
    "# reshaping\n",
    "a = torch.arange(4)\n",
    "torch.reshape(a,(2,2))"
   ]
  },
  {
   "cell_type": "code",
   "execution_count": 104,
   "metadata": {},
   "outputs": [
    {
     "name": "stdout",
     "output_type": "stream",
     "text": [
      "tensor([[[[[0., 0.]],\n",
      "\n",
      "          [[0., 0.]]]],\n",
      "\n",
      "\n",
      "\n",
      "        [[[[0., 0.]],\n",
      "\n",
      "          [[0., 0.]]]]])\n"
     ]
    },
    {
     "data": {
      "text/plain": [
       "tensor([[[0., 0.],\n",
       "         [0., 0.]],\n",
       "\n",
       "        [[0., 0.],\n",
       "         [0., 0.]]])"
      ]
     },
     "execution_count": 104,
     "metadata": {},
     "output_type": "execute_result"
    }
   ],
   "source": [
    "#squeezing\n",
    "x = torch.zeros(2, 1, 2, 1, 2)\n",
    "print(x)\n",
    "torch.squeeze(x)"
   ]
  },
  {
   "cell_type": "code",
   "execution_count": 109,
   "metadata": {},
   "outputs": [
    {
     "name": "stdout",
     "output_type": "stream",
     "text": [
      "tensor([[ 0.3825,  1.8947],\n",
      "        [-1.4522,  0.3021],\n",
      "        [ 0.0917,  1.2722]])\n",
      "tensor([[1., 1.],\n",
      "        [1., 1.],\n",
      "        [1., 1.]])\n"
     ]
    },
    {
     "data": {
      "text/plain": [
       "tensor([[1.0000, 1.8947],\n",
       "        [1.0000, 1.0000],\n",
       "        [1.0000, 1.2722]])"
      ]
     },
     "execution_count": 109,
     "metadata": {},
     "output_type": "execute_result"
    }
   ],
   "source": [
    "# Where  -> return elements from either x or y depending on condition\n",
    "x = torch.randn(3,2)\n",
    "y = torch.ones(3,2)\n",
    "print(x)\n",
    "print(y)\n",
    "torch.where(x>1, x , y)"
   ]
  },
  {
   "cell_type": "code",
   "execution_count": 112,
   "metadata": {},
   "outputs": [],
   "source": [
    "#serialization\n",
    "x  = torch.tensor([0,1, 2, 3])\n",
    "torch.save(x, 'tensor.pt')  #save to file"
   ]
  },
  {
   "cell_type": "code",
   "execution_count": 116,
   "metadata": {},
   "outputs": [
    {
     "data": {
      "text/plain": [
       "tensor([0, 1, 2, 3])"
      ]
     },
     "execution_count": 116,
     "metadata": {},
     "output_type": "execute_result"
    }
   ],
   "source": [
    "torch.load('tensor.pt') #loading save file\n",
    "torch.load('tensor.pt', map_location=torch.device('cpu')) # --> load to cpu"
   ]
  },
  {
   "cell_type": "code",
   "execution_count": 117,
   "metadata": {},
   "outputs": [
    {
     "data": {
      "text/plain": [
       "1"
      ]
     },
     "execution_count": 117,
     "metadata": {},
     "output_type": "execute_result"
    }
   ],
   "source": [
    "#Get threads\n",
    "torch.get_num_threads()"
   ]
  },
  {
   "cell_type": "code",
   "execution_count": 119,
   "metadata": {},
   "outputs": [
    {
     "name": "stdout",
     "output_type": "stream",
     "text": [
      "tensor([[ 0.6914, -0.3360, -0.4604,  0.5171],\n",
      "        [ 0.6111,  0.7812,  0.3836,  0.0660],\n",
      "        [-0.7420, -1.3848,  0.2801,  0.1430],\n",
      "        [ 0.3961, -0.5558,  0.4314, -1.0765]])\n",
      "tensor(5)\n",
      "tensor([0, 1, 2, 2])\n"
     ]
    }
   ],
   "source": [
    "#argmax\n",
    "a = torch.randn(4, 4)\n",
    "print(a)\n",
    "print(torch.argmax(a))\n",
    "print(torch.argmax(a, dim=1))"
   ]
  },
  {
   "cell_type": "code",
   "execution_count": 122,
   "metadata": {},
   "outputs": [
    {
     "name": "stdout",
     "output_type": "stream",
     "text": [
      "tensor([[ 0.3800, -1.5606, -0.0135, -0.2978],\n",
      "        [-1.2256,  0.1873, -0.6492, -2.0008],\n",
      "        [ 0.8812, -0.3936, -1.2606,  2.0059]])\n",
      "(tensor([[-1.5606, -0.2978, -0.0135,  0.3800],\n",
      "        [-2.0008, -1.2256, -0.6492,  0.1873],\n",
      "        [-1.2606, -0.3936,  0.8812,  2.0059]]), tensor([[1, 3, 2, 0],\n",
      "        [3, 0, 2, 1],\n",
      "        [2, 1, 0, 3]]))\n",
      "(tensor([[-1.2256, -1.5606, -1.2606, -2.0008],\n",
      "        [ 0.3800, -0.3936, -0.6492, -0.2978],\n",
      "        [ 0.8812,  0.1873, -0.0135,  2.0059]]), tensor([[1, 0, 2, 1],\n",
      "        [0, 2, 1, 0],\n",
      "        [2, 1, 0, 2]]))\n"
     ]
    }
   ],
   "source": [
    "#Sorting\n",
    "x = torch.randn(3, 4)\n",
    "print(x)\n",
    "print(torch.sort(x))\n",
    "print(torch.sort(x, 0))"
   ]
  },
  {
   "cell_type": "code",
   "execution_count": 128,
   "metadata": {},
   "outputs": [
    {
     "name": "stdout",
     "output_type": "stream",
     "text": [
      "tensor([1., 1., 1., 1., 1.])\n",
      "[1. 1. 1. 1. 1.]\n",
      "tensor([1., 1., 1., 1., 1.])\n"
     ]
    }
   ],
   "source": [
    "# Torch tensor to numpy array\n",
    "a = torch.ones(5)\n",
    "print(a)\n",
    "b = a.numpy()\n",
    "print(b)\n",
    "c = torch.from_numpy(b)\n",
    "print(c)"
   ]
  },
  {
   "cell_type": "code",
   "execution_count": 129,
   "metadata": {},
   "outputs": [
    {
     "ename": "NameError",
     "evalue": "name 'device' is not defined",
     "output_type": "error",
     "traceback": [
      "\u001b[0;31m---------------------------------------\u001b[0m",
      "\u001b[0;31mNameError\u001b[0mTraceback (most recent call last)",
      "\u001b[0;32m<ipython-input-129-99d4d067f4ca>\u001b[0m in \u001b[0;36m<module>\u001b[0;34m()\u001b[0m\n\u001b[1;32m      1\u001b[0m \u001b[0;31m# move tensors onto any device\u001b[0m\u001b[0;34m\u001b[0m\u001b[0;34m\u001b[0m\u001b[0m\n\u001b[0;32m----> 2\u001b[0;31m \u001b[0mx\u001b[0m\u001b[0;34m.\u001b[0m\u001b[0mto\u001b[0m\u001b[0;34m(\u001b[0m\u001b[0mdevice\u001b[0m\u001b[0;34m)\u001b[0m\u001b[0;34m\u001b[0m\u001b[0m\n\u001b[0m",
      "\u001b[0;31mNameError\u001b[0m: name 'device' is not defined"
     ]
    }
   ],
   "source": [
    "# move tensors onto any device\n",
    "x.to(device)"
   ]
  },
  {
   "cell_type": "code",
   "execution_count": null,
   "metadata": {},
   "outputs": [],
   "source": []
  }
 ],
 "metadata": {
  "kernelspec": {
   "display_name": "Python 3",
   "language": "python",
   "name": "python3"
  },
  "language_info": {
   "codemirror_mode": {
    "name": "ipython",
    "version": 3
   },
   "file_extension": ".py",
   "mimetype": "text/x-python",
   "name": "python",
   "nbconvert_exporter": "python",
   "pygments_lexer": "ipython3",
   "version": "3.6.3"
  }
 },
 "nbformat": 4,
 "nbformat_minor": 2
}
